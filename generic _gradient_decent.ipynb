{
 "cells": [
  {
   "cell_type": "code",
   "execution_count": 2,
   "metadata": {
    "collapsed": true
   },
   "outputs": [],
   "source": [
    "import numpy as np"
   ]
  },
  {
   "cell_type": "code",
   "execution_count": 47,
   "metadata": {
    "collapsed": true
   },
   "outputs": [],
   "source": [
    "def step_gd(points,lr,j,m,c):\n",
    "    M=len(points)\n",
    "    slope_m=0\n",
    "    slope_c=0\n",
    "    for i in range(M):\n",
    "        xx=points[i,0:10]\n",
    "        y=points[i,10]\n",
    "        temp=0\n",
    "        for j in range(10):\n",
    "            temp+=xx[j]*m[j]\n",
    "        temp=y-temp-c\n",
    "        slope_m+=(-2/M)*(temp*xx[j])\n",
    "        slope_c+=(-2/M)*temp\n",
    "    new_m=m[j]-lr*slope_m\n",
    "    new_c=c-lr*slope_c\n",
    "    return new_m,new_c\n"
   ]
  },
  {
   "cell_type": "code",
   "execution_count": 48,
   "metadata": {
    "collapsed": true
   },
   "outputs": [],
   "source": [
    "def gd(points,lr,itr):\n",
    "    M=len(points)\n",
    "    N=10\n",
    "    m=[0 for i in range(N)]\n",
    "    c=0\n",
    "    for i in range(itr):\n",
    "        for j in range(N):\n",
    "            m[j],c=step_gd(points,lr,j,m,c)\n",
    "        print(t_cost(points,m,c))\n",
    "    return m,c"
   ]
  },
  {
   "cell_type": "code",
   "execution_count": 63,
   "metadata": {
    "collapsed": true
   },
   "outputs": [],
   "source": [
    "def t_cost(points,m,c):\n",
    "    M=len(points)\n",
    "    N=10\n",
    "    cost=0\n",
    "    for i in range(M):\n",
    "        temp=0\n",
    "        xx=points[i,0:10]\n",
    "        y=points[i,10]\n",
    "        for j in range(N):\n",
    "            temp+=xx[j]*m[j]\n",
    "        temp=y-temp-c\n",
    "        cost+=(1/M)*(temp**2)\n",
    "    return cost\n",
    "    "
   ]
  },
  {
   "cell_type": "code",
   "execution_count": 2,
   "metadata": {
    "collapsed": true
   },
   "outputs": [],
   "source": [
    "def run():\n",
    "    data=np.loadtxt(\"C:/Users/ansh41/Desktop/mypython/codingNinja/datasets/training_diabetes_x_y_train.csv\",delimiter=\",\")\n",
    "    learning_rate=0.1\n",
    "    itr=1000\n",
    "    m,c=gd(data,learning_rate,itr)\n",
    "    print(m)\n",
    "    print(c)\n"
   ]
  },
  {
   "cell_type": "code",
   "execution_count": 1,
   "metadata": {},
   "outputs": [],
   "source": [
    "# run()"
   ]
  },
  {
   "cell_type": "code",
   "execution_count": null,
   "metadata": {
    "collapsed": true
   },
   "outputs": [],
   "source": []
  }
 ],
 "metadata": {
  "kernelspec": {
   "display_name": "Python 3",
   "language": "python",
   "name": "python3"
  },
  "language_info": {
   "codemirror_mode": {
    "name": "ipython",
    "version": 3
   },
   "file_extension": ".py",
   "mimetype": "text/x-python",
   "name": "python",
   "nbconvert_exporter": "python",
   "pygments_lexer": "ipython3",
   "version": "3.6.3"
  }
 },
 "nbformat": 4,
 "nbformat_minor": 2
}
