{
 "cells": [
  {
   "cell_type": "code",
   "execution_count": 47,
   "metadata": {
    "collapsed": true
   },
   "outputs": [],
   "source": [
    "import numpy as np"
   ]
  },
  {
   "cell_type": "code",
   "execution_count": null,
   "metadata": {
    "collapsed": true
   },
   "outputs": [],
   "source": [
    "def fit(x_train,y_train):\n",
    "    result={}\n",
    "    class_values=set(y_train)\n",
    "    for current_class in class_values:\n",
    "        num_features=x_train.shape[1]\n",
    "        result[current_class]={}\n",
    "        result['total_data']=len(y_train)\n",
    "        current_class_rows=(y_train==current_class)\n",
    "        x_train_current=x_train[current_class_rows]\n",
    "        y_train_current=y_train[current_class_rows]\n",
    "        result[current_class]['total_count']=len(y_train_current)\n",
    "        for j in range(1,num_features+1):\n",
    "            result[current_class][j]={}\n",
    "            allpossible_values=set(x_train[:,j-1])\n",
    "            for value in allpossible_values:\n",
    "                result[current_class][j][value]=(x_train_current[:,j-1]==value).sum()\n",
    "    return result"
   ]
  },
  {
   "cell_type": "code",
   "execution_count": 53,
   "metadata": {
    "collapsed": true
   },
   "outputs": [],
   "source": [
    "def probablity(dictionary,x,current_class):\n",
    "    output=np.log(dictionary[current_class]['total_count'])-np.log(dictionary['total_data'])\n",
    "    num_features=len(dictionary[current_class].keys())-1\n",
    "    for j in range(1,num_features+1):\n",
    "        xj=x[j-1]\n",
    "        count_current_class_with_value_xj=dictionary[current_class][j][xj]\n",
    "        count_current_class=dictionary[current_class]['total_count']\n",
    "        current_xj_probablity=np.log(count_current_class_with_value_xj)-np.log(count_current_class)\n",
    "        output=output+current_xj_probablity\n",
    "    return output"
   ]
  },
  {
   "cell_type": "code",
   "execution_count": 11,
   "metadata": {},
   "outputs": [],
   "source": [
    "def predictsinglepoint(dictionary,x):\n",
    "    classes=dictionary.keys()\n",
    "    best_p=-1000\n",
    "    best_class=-1\n",
    "    first_run=True\n",
    "    for current_class in classes:\n",
    "        if(current_class=='total_data'):\n",
    "            continue\n",
    "        p_current_class=probablity(dictionary,x,current_class)\n",
    "        if(first_run or best_p < p_current_class):\n",
    "            best_p=p_current_class\n",
    "            best_class=current_class\n",
    "        first_run=False\n",
    "    return best_class"
   ]
  },
  {
   "cell_type": "code",
   "execution_count": 12,
   "metadata": {
    "collapsed": true
   },
   "outputs": [],
   "source": [
    "def predict(dictionary,x_test):\n",
    "    y_pred=[]\n",
    "    for x in x_test:\n",
    "        x_class=predictsinglepoint(dictionary,x)\n",
    "        y_pred.append(x_class)\n",
    "    return y_pred\n",
    "\n",
    "        "
   ]
  },
  {
   "cell_type": "code",
   "execution_count": 5,
   "metadata": {
    "collapsed": true
   },
   "outputs": [],
   "source": [
    "def makelabeled(column):\n",
    "    second_limit=column.mean()\n",
    "    first_limit=0.5*second_limit\n",
    "    third_limit=1.5*second_limit\n",
    "    for i in range(0,len(column)):\n",
    "        if(column[i]<first_limit):\n",
    "            column[i]=0\n",
    "        elif(column[i]<second_limit):\n",
    "            column[i]=1\n",
    "        elif(column[i]<third_limit):\n",
    "            column[i]=2\n",
    "        else:\n",
    "            column[i]=3\n",
    "    return column"
   ]
  },
  {
   "cell_type": "code",
   "execution_count": 6,
   "metadata": {},
   "outputs": [],
   "source": [
    "from sklearn import datasets\n",
    "iris=datasets.load_iris()\n",
    "x=iris.data\n",
    "y=iris.target\n",
    "for i in range(x.shape[1]):\n",
    "    x[:,i]=makelabeled(x[:,i])"
   ]
  },
  {
   "cell_type": "code",
   "execution_count": 44,
   "metadata": {
    "collapsed": true
   },
   "outputs": [],
   "source": [
    "from sklearn.model_selection import train_test_split\n",
    "x_train,x_test,y_train,y_test=train_test_split(x,y)"
   ]
  },
  {
   "cell_type": "code",
   "execution_count": 45,
   "metadata": {},
   "outputs": [],
   "source": [
    "dictionary=fit(x_train,y_train)"
   ]
  },
  {
   "cell_type": "code",
   "execution_count": 54,
   "metadata": {},
   "outputs": [
    {
     "name": "stderr",
     "output_type": "stream",
     "text": [
      "C:\\Users\\ansh41\\Anaconda3\\lib\\site-packages\\ipykernel_launcher.py:8: RuntimeWarning: divide by zero encountered in log\n",
      "  \n"
     ]
    }
   ],
   "source": [
    "y_pred=predict(dictionary,x_test)"
   ]
  },
  {
   "cell_type": "code",
   "execution_count": 56,
   "metadata": {},
   "outputs": [
    {
     "name": "stdout",
     "output_type": "stream",
     "text": [
      "             precision    recall  f1-score   support\n",
      "\n",
      "          0       1.00      1.00      1.00        13\n",
      "          1       0.93      1.00      0.96        13\n",
      "          2       1.00      0.92      0.96        12\n",
      "\n",
      "avg / total       0.98      0.97      0.97        38\n",
      "\n",
      "[[13  0  0]\n",
      " [ 0 13  0]\n",
      " [ 0  1 11]]\n"
     ]
    }
   ],
   "source": [
    "from sklearn.metrics import classification_report,confusion_matrix\n",
    "print(classification_report(y_test,y_pred))\n",
    "print(confusion_matrix(y_test,y_pred))"
   ]
  }
 ],
 "metadata": {
  "kernelspec": {
   "display_name": "Python 3",
   "language": "python",
   "name": "python3"
  },
  "language_info": {
   "codemirror_mode": {
    "name": "ipython",
    "version": 3
   },
   "file_extension": ".py",
   "mimetype": "text/x-python",
   "name": "python",
   "nbconvert_exporter": "python",
   "pygments_lexer": "ipython3",
   "version": "3.6.3"
  }
 },
 "nbformat": 4,
 "nbformat_minor": 2
}
