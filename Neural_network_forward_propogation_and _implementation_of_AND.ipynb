{
 "cells": [
  {
   "cell_type": "code",
   "execution_count": 1,
   "metadata": {
    "collapsed": true
   },
   "outputs": [],
   "source": [
    "import numpy as np"
   ]
  },
  {
   "cell_type": "code",
   "execution_count": 2,
   "metadata": {
    "collapsed": true
   },
   "outputs": [],
   "source": [
    "x=np.array([[0,0],[0,1],[1,0],[1,1]])\n",
    "y=np.array([[0,0,0,1]]).T"
   ]
  },
  {
   "cell_type": "code",
   "execution_count": 3,
   "metadata": {},
   "outputs": [
    {
     "data": {
      "text/plain": [
       "((4, 2), (4, 1))"
      ]
     },
     "execution_count": 3,
     "metadata": {},
     "output_type": "execute_result"
    }
   ],
   "source": [
    "X = np.array([[0,0], [0,1], [1,0], [1,1]])\n",
    "Y = np.array([[0,0,0,1]]).T\n",
    "X.shape, Y.shape"
   ]
  },
  {
   "cell_type": "code",
   "execution_count": 4,
   "metadata": {
    "collapsed": true
   },
   "outputs": [],
   "source": [
    "def sig(z):\n",
    "    return 1/(1 + np.exp(-z))"
   ]
  },
  {
   "cell_type": "code",
   "execution_count": 5,
   "metadata": {
    "collapsed": true
   },
   "outputs": [],
   "source": [
    "def derivativesig(z):\n",
    "    return sig(z)*(1 - sig(z))"
   ]
  },
  {
   "cell_type": "code",
   "execution_count": 6,
   "metadata": {},
   "outputs": [
    {
     "data": {
      "text/plain": [
       "(array([[-0.36732383],\n",
       "        [ 0.91313517]]), array([-0.07378475]))"
      ]
     },
     "execution_count": 6,
     "metadata": {},
     "output_type": "execute_result"
    }
   ],
   "source": [
    "# no hidden layer weights\n",
    "weights = 2* np.random.random((2, 1)) - 1\n",
    "bias = 2 * np.random.random(1) - 1\n",
    "lr = 0.1\n",
    "weights, bias"
   ]
  },
  {
   "cell_type": "code",
   "execution_count": 7,
   "metadata": {},
   "outputs": [
    {
     "data": {
      "text/plain": [
       "(array([[5.47893103],\n",
       "        [5.47893106]]), array([-8.31109088]), array([[2.45715393e-04],\n",
       "        [5.56108587e-02],\n",
       "        [5.56108573e-02],\n",
       "        [9.33811707e-01]]))"
      ]
     },
     "execution_count": 7,
     "metadata": {},
     "output_type": "execute_result"
    }
   ],
   "source": [
    "#without any hidden layer output\n",
    "for iter in range(10000):\n",
    "    output0=x\n",
    "    output=sig(np.dot(output0,weights)+bias)\n",
    "    fist_term=output-y\n",
    "    input_for_last_layer=np.dot(output0,weights)+bias\n",
    "    second_term=derivativesig(input_for_last_layer)\n",
    "    \n",
    "    first_two=fist_term*second_term\n",
    "\n",
    "\n",
    "    change=np.array([[0.0],[0.0]])\n",
    "    for i in range(2):\n",
    "        for j in range(4):\n",
    "            change[i][0]+=first_two[j][0] * output0[j][i]\n",
    "    \n",
    "    weights= weights-  lr*change\n",
    "    \n",
    "    bias_change=0.0\n",
    "\n",
    "    for j in range(4):\n",
    "        bias_change+=first_two[j][0]*1\n",
    "    bias=bias-lr*bias_change\n",
    "    \n",
    "output=sig(np.dot(x,weights) + bias)\n",
    "weights,bias,output"
   ]
  },
  {
   "cell_type": "code",
   "execution_count": 11,
   "metadata": {},
   "outputs": [
    {
     "data": {
      "text/plain": [
       "(array([[6.72395703],\n",
       "        [6.72395703]]), array([-10.17457998]), array([[3.81258472e-05],\n",
       "        [3.07502872e-02],\n",
       "        [3.07502872e-02],\n",
       "        [9.63502597e-01]]))"
      ]
     },
     "execution_count": 11,
     "metadata": {},
     "output_type": "execute_result"
    }
   ],
   "source": [
    "# optimization using vector operation \n",
    "for itr in range(10000):\n",
    "    output0=x\n",
    "    output=sig(np.dot(output0,weights)+bias)\n",
    "    fist_term=output-y\n",
    "    input_for_last_layer=np.dot(output0,weights)+bias\n",
    "    second_term=derivativesig(input_for_last_layer)\n",
    "    \n",
    "    first_two=fist_term*second_term\n",
    "\n",
    "\n",
    "    change=np.dot(output0.T,first_two)\n",
    "    \n",
    "    weights= weights-  lr*change\n",
    "    \n",
    "    bias_change=np.sum(first_two)\n",
    "    bias=bias-lr*bias_change\n",
    "    \n",
    "output=sig(np.dot(x,weights) + bias)\n",
    "weights,bias,output"
   ]
  },
  {
   "cell_type": "code",
   "execution_count": 8,
   "metadata": {
    "collapsed": true
   },
   "outputs": [],
   "source": [
    "#one hidden layer with two units\n",
    "wh=2*np.random.random((2,2))-1\n",
    "bh=2*np.random.random((1,2))-1\n",
    "wo=2*np.random.random((2,1))-1\n",
    "bo=2*np.random.random((1,1))-1"
   ]
  },
  {
   "cell_type": "code",
   "execution_count": 9,
   "metadata": {},
   "outputs": [
    {
     "data": {
      "text/plain": [
       "array([[0.24963192],\n",
       "       [0.22603363],\n",
       "       [0.26965041],\n",
       "       [0.24259892]])"
      ]
     },
     "execution_count": 9,
     "metadata": {},
     "output_type": "execute_result"
    }
   ],
   "source": [
    "output0=x\n",
    "outputhidden=sig(np.dot(output0,wh)+bh)\n",
    "output=sig(np.dot(outputhidden,wo)+bo)\n",
    "output"
   ]
  }
 ],
 "metadata": {
  "kernelspec": {
   "display_name": "Python 3",
   "language": "python",
   "name": "python3"
  },
  "language_info": {
   "codemirror_mode": {
    "name": "ipython",
    "version": 3
   },
   "file_extension": ".py",
   "mimetype": "text/x-python",
   "name": "python",
   "nbconvert_exporter": "python",
   "pygments_lexer": "ipython3",
   "version": "3.6.3"
  }
 },
 "nbformat": 4,
 "nbformat_minor": 2
}
