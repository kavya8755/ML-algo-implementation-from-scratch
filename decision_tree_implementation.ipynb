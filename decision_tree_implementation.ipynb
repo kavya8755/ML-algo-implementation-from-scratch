{
 "cells": [
  {
   "cell_type": "code",
   "execution_count": 1,
   "metadata": {
    "collapsed": true
   },
   "outputs": [],
   "source": [
    "from sklearn import datasets\n",
    "import pandas as pd\n",
    "import numpy as np\n",
    "import math"
   ]
  },
  {
   "cell_type": "code",
   "execution_count": 119,
   "metadata": {},
   "outputs": [],
   "source": [
    "iris=datasets.load_iris()\n",
    "x=iris.data\n",
    "y=iris.target\n",
    "df=pd.DataFrame(x)\n",
    "df.columns=['sl','sw','pl','pw']\n",
    "df['class']=pd.DataFrame(y)   # created a column called class which holds target data of iris dataset"
   ]
  },
  {
   "cell_type": "code",
   "execution_count": 3,
   "metadata": {
    "collapsed": true
   },
   "outputs": [],
   "source": [
    "# This function will return the entrophy of given dataFrame\n",
    "def entrophy(df):\n",
    "    arr=df['class'].unique()  #this is to have unique elements occur in class column\n",
    "    total=df.shape[0]\n",
    "    entrop=0.0\n",
    "    for i in arr:             \n",
    "        mask=df['class']==i        # this is maask to have dataframe which belongs to only particular class\n",
    "        num=df[mask].shape[0]          # find Number of rows in the above dataframe\n",
    "        entrop+=(-num/total)*math.log(num/total)\n",
    "    return entrop\n",
    "    "
   ]
  },
  {
   "cell_type": "code",
   "execution_count": 120,
   "metadata": {
    "collapsed": true
   },
   "outputs": [],
   "source": [
    "def step_ind(df,total):     # this is to calculate individual term((d1/d )*entrophy(d)) which help to find entrophy of splitting node\n",
    "    return (df.shape[0]/total)*entrophy(df)"
   ]
  },
  {
   "cell_type": "code",
   "execution_count": 5,
   "metadata": {
    "collapsed": true
   },
   "outputs": [],
   "source": [
    "def entrophy_split(df_list,total): #this is to calculate entrophy after splitting\n",
    "    sum=0\n",
    "    for df in df_list:\n",
    "        sum+=step_ind(df,total)\n",
    "    return sum"
   ]
  },
  {
   "cell_type": "code",
   "execution_count": 105,
   "metadata": {
    "collapsed": true
   },
   "outputs": [],
   "source": [
    "def info_gain(info_ind,info_org): # it returns info_gain\n",
    "    diff=info_ind-info_org\n",
    "    return diff"
   ]
  },
  {
   "cell_type": "code",
   "execution_count": 23,
   "metadata": {
    "collapsed": true
   },
   "outputs": [],
   "source": [
    "def split_info_ind(df,total):  # this is to calculate individual term of split_info ((d1/d)*log(d1/d))\n",
    "    return ((df.shape[0]/total)*math.log(df.shape[0]/total))\n"
   ]
  },
  {
   "cell_type": "code",
   "execution_count": 42,
   "metadata": {
    "collapsed": true
   },
   "outputs": [],
   "source": [
    "def split_info(df_list,total): # it calculates the split_info\n",
    "    sum=0\n",
    "    for df in df_list:\n",
    "        sum+=split_info_ind(df,total)\n",
    "    return sum"
   ]
  },
  {
   "cell_type": "code",
   "execution_count": 43,
   "metadata": {
    "collapsed": true
   },
   "outputs": [],
   "source": [
    "def gain_ratio(info__gain,split__info): # this is to return gain_ratio\n",
    "    return (info__gain/split__info)"
   ]
  },
  {
   "cell_type": "code",
   "execution_count": 121,
   "metadata": {
    "collapsed": true
   },
   "outputs": [],
   "source": [
    "# this is recursive fucntion like dfs(depth first search) to split data based on gain_ratio of selected feature\n",
    "\n",
    "def dst(df,level,depth):\n",
    "    if(level==depth):            # when tree reaches a certain depth it does not move ahead\n",
    "        return\n",
    "    if df.shape[0]==0:                   # this is base case when there is no datapoint\n",
    "        print(level)\n",
    "        print('current entrophy=0.0')\n",
    "        print('reached leaf node')\n",
    "        print()\n",
    "        return\n",
    "    if df['class'].unique().size==1 :             # this is a basecase too to handle pure node\n",
    "        print(level)\n",
    "        print('current entrophy=0.0')\n",
    "        ele=df['class'].unique()\n",
    "        print('count of',ele[0],'=',df.shape[0])\n",
    "        print('reached leaf node')\n",
    "        print()\n",
    "        return\n",
    "    col=df.columns\n",
    "    max_gain_ratio=0\n",
    "    feature_index=0\n",
    "    node_entrophy=entrophy(df)\n",
    "    for i in range(len(col)-1):            #here is we are going through every feature \n",
    "        feature=df[col[i]]\n",
    "        mask1=df[col[i]]>feature.mean()           # here we are creating mask of less than \n",
    "        mask2=df[col[i]]<=feature.mean()          # and greater than mean of selected featrue\n",
    "        split_entrophy=entrophy_split([df[mask1],df[mask2]],df.shape[0])         \n",
    "        curr_gain_ratio=(info_gain(split_entrophy,node_entrophy))/(split_info([df[mask1],df[mask2]],df.shape[0]))\n",
    "        if(max_gain_ratio<curr_gain_ratio):\n",
    "            max_gain_ratio=curr_gain_ratio\n",
    "            feature_index=i\n",
    "    dst(df[mask1],level+1,depth)\n",
    "    dst(df[mask2],level+1,depth)\n",
    "    print(level)\n",
    "    arr=df['class'].unique()\n",
    "    for i in arr:\n",
    "        mask=df['class']==i\n",
    "        print('count of',i,'=',df[mask].shape[0])\n",
    "    print('current entrophy',node_entrophy)\n",
    "    print('spliting on feature',col[feature_index],'with gain ratio',max_gain_ratio)\n",
    "    print()\n",
    "    "
   ]
  },
  {
   "cell_type": "code",
   "execution_count": 122,
   "metadata": {},
   "outputs": [
    {
     "name": "stdout",
     "output_type": "stream",
     "text": [
      "2\n",
      "count of 1 = 1\n",
      "count of 2 = 45\n",
      "current entrophy 0.10473243910508653\n",
      "spliting on feature sw with gain ratio 0.031037861792700953\n",
      "\n",
      "2\n",
      "count of 1 = 39\n",
      "count of 2 = 5\n",
      "current entrophy 0.3540511393449268\n",
      "spliting on feature pl with gain ratio 0.06902591245427621\n",
      "\n",
      "1\n",
      "count of 1 = 40\n",
      "count of 2 = 50\n",
      "current entrophy 0.6869615765973234\n",
      "spliting on feature pw with gain ratio 0.6643669090551081\n",
      "\n",
      "2\n",
      "count of 0 = 9\n",
      "count of 1 = 10\n",
      "current entrophy 0.6917614988524178\n",
      "spliting on feature sw with gain ratio 1.0\n",
      "\n",
      "2\n",
      "current entrophy=0.0\n",
      "count of 0 = 41\n",
      "reached leaf node\n",
      "\n",
      "1\n",
      "count of 0 = 50\n",
      "count of 1 = 10\n",
      "current entrophy 0.45056120886630463\n",
      "spliting on feature pl with gain ratio 0.7203181881982558\n",
      "\n",
      "0\n",
      "count of 0 = 50\n",
      "count of 1 = 50\n",
      "count of 2 = 50\n",
      "current entrophy 1.0986122886681096\n",
      "spliting on feature pl with gain ratio 0.7967247093242663\n",
      "\n"
     ]
    }
   ],
   "source": [
    "dst(df,0,3)"
   ]
  }
 ],
 "metadata": {
  "kernelspec": {
   "display_name": "Python 3",
   "language": "python",
   "name": "python3"
  },
  "language_info": {
   "codemirror_mode": {
    "name": "ipython",
    "version": 3
   },
   "file_extension": ".py",
   "mimetype": "text/x-python",
   "name": "python",
   "nbconvert_exporter": "python",
   "pygments_lexer": "ipython3",
   "version": "3.6.3"
  }
 },
 "nbformat": 4,
 "nbformat_minor": 2
}
